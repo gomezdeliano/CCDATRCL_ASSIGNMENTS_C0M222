{
  "cells": [
    {
      "cell_type": "markdown",
      "metadata": {
        "id": "2856PIxMzrOr"
      },
      "source": [
        "# Exercise 6"
      ]
    },
    {
      "cell_type": "markdown",
      "metadata": {
        "id": "TKkh3yZezrO0"
      },
      "source": [
        "#### Pre-defined code"
      ]
    },
    {
      "cell_type": "code",
      "execution_count": null,
      "metadata": {
        "id": "CoFRqXUWzrO2"
      },
      "outputs": [],
      "source": [
        "class Node:\n",
        "    def __init__(self, item):\n",
        "        self.left = None\n",
        "        self.right = None\n",
        "        self.val = item"
      ]
    },
    {
      "cell_type": "code",
      "execution_count": 1,
      "metadata": {
        "id": "LS2gSqM-zrO5"
      },
      "outputs": [],
      "source": [
        "def inorder(root):\n",
        "\n",
        "    if root:\n",
        "        # Traverse left\n",
        "        inorder(root.left)\n",
        "        # Traverse root\n",
        "        print(str(root.val) + \"->\", end='')\n",
        "        # Traverse right\n",
        "        inorder(root.right)\n",
        "\n",
        "def postorder(root):\n",
        "\n",
        "    if root:\n",
        "        # Traverse left\n",
        "        postorder(root.left)\n",
        "        # Traverse right\n",
        "        postorder(root.right)\n",
        "        # Traverse root\n",
        "        print(str(root.val) + \"->\", end='')\n",
        "\n",
        "def preorder(root):\n",
        "\n",
        "    if root:\n",
        "        # Traverse root\n",
        "        print(str(root.val) + \"->\", end='')\n",
        "        # Traverse left\n",
        "        preorder(root.left)\n",
        "        # Traverse right\n",
        "        preorder(root.right)"
      ]
    },
    {
      "cell_type": "markdown",
      "metadata": {
        "id": "frbjARW7zrO6"
      },
      "source": [
        "#### 1. Construct Create your own company org chart and put yourself as CEO.\n",
        "\n",
        "Using a Tree data structure,\n",
        "\n",
        "- Assign yourself as CEO\n",
        "\n",
        "- Assign any of your classmate as HR Director\n",
        "- Assign any of your classmate as Sales Director\n",
        "\n",
        "- Assign any of your classmate as trainee. His/her boss is the HR Director\n",
        "- Assign any of your classmate as a staff and trainee. Their boss is the Sales Director\n"
      ]
    },
    {
      "cell_type": "markdown",
      "metadata": {
        "id": "z5-K51ezzrO7"
      },
      "source": [
        "<img src=\"https://thumbs.dreamstime.com/z/cartoon-organization-chart-some-company-93778925.jpg\"/>"
      ]
    },
    {
      "cell_type": "code",
      "execution_count": 125,
      "metadata": {
        "id": "iAGQT5phzrO9"
      },
      "outputs": [],
      "source": [
        "class Node:\n",
        "    def __init__(self, item, name):\n",
        "        self.left = None\n",
        "        self.right = None\n",
        "        self.val = item\n",
        "        self.name = name\n",
        "\n",
        "# assign\n",
        "ceo = Node(1, \"Marg\")\n",
        "hr = Node(2, \"Cole\")\n",
        "sales = Node(3, \"Yana\")\n",
        "trainee1 = Node(4, \"Mary\")\n",
        "staff = Node(5, \"Jade\")\n",
        "trainee2 = Node(6, \"Clei\")\n",
        "\n",
        "# tree structure\n",
        "ceo.left = hr\n",
        "ceo.right = sales\n",
        "hr.left = trainee1\n",
        "sales.left = staff\n",
        "sales.right = trainee2"
      ]
    },
    {
      "cell_type": "markdown",
      "metadata": {
        "id": "rH3MkneqzrO-"
      },
      "source": [
        "#### 2. Traverse the tree in in-order traversal"
      ]
    },
    {
      "cell_type": "code",
      "execution_count": 124,
      "metadata": {
        "id": "CBb0LeQtzrO_",
        "colab": {
          "base_uri": "https://localhost:8080/"
        },
        "outputId": "a4593a08-0d97-4b6e-dd36-cde30e0fd3bd"
      },
      "outputs": [
        {
          "output_type": "stream",
          "name": "stdout",
          "text": [
            "Inorder Traversal:\n",
            "Mary -> Cole -> Marg -> Jade -> Yana -> Clei -> "
          ]
        }
      ],
      "source": [
        "# INORDER\n",
        "\n",
        "class Node:\n",
        "  def __init__(self, item, name):\n",
        "    self.left = None\n",
        "    self.right = None\n",
        "    self.val = item\n",
        "    self.name = name\n",
        "\n",
        "  def inorder(root):\n",
        "    if root.left:\n",
        "      root.left.inorder()\n",
        "    print(root.name + \" -> \", end='')\n",
        "    if root.right:\n",
        "      root.right.inorder()\n",
        "\n",
        "# assign\n",
        "ceo = Node(1, \"Marg\")\n",
        "hr = Node(2, \"Cole\")\n",
        "sales = Node(3, \"Yana\")\n",
        "trainee1 = Node(4, \"Mary\")\n",
        "staff = Node(5, \"Jade\")\n",
        "trainee2 = Node(6, \"Clei\")\n",
        "\n",
        "# tree structure\n",
        "ceo.left = hr\n",
        "ceo.right = sales\n",
        "hr.left = trainee1\n",
        "sales.left = staff\n",
        "sales.right = trainee2\n",
        "\n",
        "print(\"Inorder Traversal:\")\n",
        "ceo.inorder()"
      ]
    },
    {
      "cell_type": "markdown",
      "metadata": {
        "id": "WPhvD23szrPA"
      },
      "source": [
        "#### 3. Traverse the tree in pre-order traversal"
      ]
    },
    {
      "cell_type": "code",
      "execution_count": 1,
      "metadata": {
        "id": "8iA9zv-SzrPA",
        "colab": {
          "base_uri": "https://localhost:8080/"
        },
        "outputId": "57623000-1ceb-4799-ae39-44b914fe4d3f"
      },
      "outputs": [
        {
          "output_type": "stream",
          "name": "stdout",
          "text": [
            "Pre Order Traversal:\n",
            "Marg -> Cole -> Mary -> Yana -> Jade -> Clei -> "
          ]
        }
      ],
      "source": [
        "# PRE ORDER\n",
        "\n",
        "class Node:\n",
        "  def __init__(self, item, name):\n",
        "    self.left = None\n",
        "    self.right = None\n",
        "    self.val = item\n",
        "    self.name = name\n",
        "\n",
        "  def preorder(root):\n",
        "    print(root.name + \" -> \", end='')\n",
        "    if root.left:\n",
        "      root.left.preorder()\n",
        "    if root.right:\n",
        "      root.right.preorder()\n",
        "\n",
        "#assign\n",
        "ceo = Node(1, \"Marg\")\n",
        "hr = Node(2, \"Cole\")\n",
        "sales = Node(3, \"Yana\")\n",
        "trainee1 = Node(4, \"Mary\")\n",
        "staff = Node(5, \"Jade\")\n",
        "trainee2 = Node(6, \"Clei\")\n",
        "\n",
        "#tree structure\n",
        "ceo.left = hr\n",
        "ceo.right = sales\n",
        "hr.left = trainee1\n",
        "sales.left = staff\n",
        "sales.right = trainee2\n",
        "\n",
        "print(\"Pre Order Traversal:\")\n",
        "ceo.preorder()\n"
      ]
    },
    {
      "cell_type": "markdown",
      "metadata": {
        "id": "YnLKs9A1zrPB"
      },
      "source": [
        "#### 4. Traverse the tree in post-order traversal"
      ]
    },
    {
      "cell_type": "code",
      "execution_count": 2,
      "metadata": {
        "id": "XVJHwGgzzrPB",
        "colab": {
          "base_uri": "https://localhost:8080/"
        },
        "outputId": "935d7aac-f21b-4c47-b7cb-05a4cce9d5e9"
      },
      "outputs": [
        {
          "output_type": "stream",
          "name": "stdout",
          "text": [
            "Post Order Traversal:\n",
            "Mary -> Cole -> Jade -> Clei -> Yana -> Marg -> "
          ]
        }
      ],
      "source": [
        "# POST-ORDER\n",
        "\n",
        "class Node:\n",
        "  def __init__(self, item, name):\n",
        "    self.left = None\n",
        "    self.right = None\n",
        "    self.val = item\n",
        "    self.name = name\n",
        "\n",
        "  def postorder(root):\n",
        "    if root.left:\n",
        "      root.left.postorder()\n",
        "    if root.right:\n",
        "      root.right.postorder()\n",
        "    print(root.name + \" -> \", end='')\n",
        "\n",
        "#assign\n",
        "ceo = Node(1, \"Marg\")\n",
        "hr = Node(2, \"Cole\")\n",
        "sales = Node(3, \"Yana\")\n",
        "trainee1 = Node(4, \"Mary\")\n",
        "staff = Node(5, \"Jade\")\n",
        "trainee2 = Node(6, \"Clei\")\n",
        "\n",
        "#tree structure\n",
        "ceo.left = hr\n",
        "ceo.right = sales\n",
        "hr.left = trainee1\n",
        "sales.left = staff\n",
        "sales.right = trainee2\n",
        "\n",
        "print(\"Post Order Traversal:\")\n",
        "ceo.postorder()\n"
      ]
    }
  ],
  "metadata": {
    "kernelspec": {
      "display_name": "Python 3",
      "language": "python",
      "name": "python3"
    },
    "language_info": {
      "codemirror_mode": {
        "name": "ipython",
        "version": 3
      },
      "file_extension": ".py",
      "mimetype": "text/x-python",
      "name": "python",
      "nbconvert_exporter": "python",
      "pygments_lexer": "ipython3",
      "version": "3.11.4"
    },
    "orig_nbformat": 4,
    "colab": {
      "provenance": []
    }
  },
  "nbformat": 4,
  "nbformat_minor": 0
}
{
  "cells": [
    {
      "cell_type": "markdown",
      "metadata": {
        "id": "e3Ja3uozAJlw"
      },
      "source": [
        "# Exercise 7"
      ]
    },
    {
      "cell_type": "code",
      "execution_count": 13,
      "metadata": {
        "id": "IW6uTwU8AJly"
      },
      "outputs": [],
      "source": [
        "class Node:\n",
        "    def __init__(self, item):\n",
        "        self.left = None\n",
        "        self.right = None\n",
        "\n",
        "        self.val = item"
      ]
    },
    {
      "cell_type": "code",
      "execution_count": 14,
      "metadata": {
        "id": "uxVFuimIAJlz"
      },
      "outputs": [],
      "source": [
        "def evaluateExpressionTree(root):\n",
        "\n",
        "    # empty tree\n",
        "    if root is None:\n",
        "        return 0\n",
        "\n",
        "    # leaf node\n",
        "    if root.left is None and root.right is None:\n",
        "        return int(root.val)\n",
        "\n",
        "    # evaluate left tree\n",
        "    left_sum = evaluateExpressionTree(root.left)\n",
        "\n",
        "    # evaluate right tree\n",
        "    right_sum = evaluateExpressionTree(root.right)\n",
        "\n",
        "    # check which operation to apply\n",
        "    if root.val == '+':\n",
        "        return left_sum + right_sum\n",
        "\n",
        "    elif root.val == '-':\n",
        "        return left_sum - right_sum\n",
        "\n",
        "    elif root.val == '*':\n",
        "        return left_sum * right_sum\n",
        "\n",
        "    else:\n",
        "        return left_sum // right_sum"
      ]
    },
    {
      "cell_type": "code",
      "execution_count": 24,
      "metadata": {
        "id": "-xWZXA-mAJl0"
      },
      "outputs": [],
      "source": [
        "def inorder(root):\n",
        "\n",
        "    if root:\n",
        "        # Traverse left\n",
        "        inorder(root.left)\n",
        "        # Traverse root\n",
        "        print(str(root.val) + \" -> \", end='')\n",
        "        # Traverse right\n",
        "        inorder(root.right)"
      ]
    },
    {
      "cell_type": "markdown",
      "metadata": {
        "id": "CVtqxh5DAJl1"
      },
      "source": [
        "#### 1. Construct a binary expression tree\n",
        "\n",
        "$ (8 + 4) * (7 - 9) $"
      ]
    },
    {
      "cell_type": "code",
      "execution_count": 25,
      "metadata": {
        "id": "CxpP0zcVAJl1",
        "colab": {
          "base_uri": "https://localhost:8080/"
        },
        "outputId": "447f6ea0-4311-4423-c19c-6a9a50a22d54"
      },
      "outputs": [
        {
          "output_type": "execute_result",
          "data": {
            "text/plain": [
              "-24"
            ]
          },
          "metadata": {},
          "execution_count": 25
        }
      ],
      "source": [
        "# put your answer here\n",
        "root = Node(\"*\")\n",
        "node1 = Node(\"+\")\n",
        "node2 = Node(\"-\")\n",
        "node1leftch = Node(\"8\")\n",
        "node1rightch = Node(\"4\")\n",
        "node2leftch = Node(\"7\")\n",
        "node2rightch = Node(\"9\")\n",
        "\n",
        "root.left = node1\n",
        "root.right = node2\n",
        "root.left.left = node1leftch\n",
        "root.left.right = node1rightch\n",
        "root.right.left = node2leftch\n",
        "root.right.right = node2rightch\n",
        "\n",
        "evaluateExpressionTree(root)\n",
        "\n",
        "\n"
      ]
    },
    {
      "cell_type": "code",
      "source": [
        "inorder(root)"
      ],
      "metadata": {
        "colab": {
          "base_uri": "https://localhost:8080/"
        },
        "id": "tjdebWkWIV0K",
        "outputId": "e4e6e8c4-5a20-4518-8893-2d1b7022ac72"
      },
      "execution_count": 26,
      "outputs": [
        {
          "output_type": "stream",
          "name": "stdout",
          "text": [
            "8 -> + -> 4 -> * -> 7 -> - -> 9 -> "
          ]
        }
      ]
    },
    {
      "cell_type": "markdown",
      "metadata": {
        "id": "jc5KHLk6AJl2"
      },
      "source": [
        "#### 2. Construct a binary expression tree\n",
        "\n",
        "$ 5 / 8 + 3 - 6 * 1 $"
      ]
    },
    {
      "cell_type": "code",
      "execution_count": 37,
      "metadata": {
        "id": "XORzqkC3AJl2",
        "colab": {
          "base_uri": "https://localhost:8080/"
        },
        "outputId": "96c6c18b-3f59-492d-8422-fb274beb2bc4"
      },
      "outputs": [
        {
          "output_type": "execute_result",
          "data": {
            "text/plain": [
              "-3"
            ]
          },
          "metadata": {},
          "execution_count": 37
        }
      ],
      "source": [
        "# put your answer here\n",
        "root = Node(\"-\")\n",
        "node1 = Node(\"+\")\n",
        "node2 = Node(\"*\")\n",
        "node1leftch = Node(\"/\")\n",
        "node1rightch = Node(\"3\")\n",
        "node1leftchleft = Node(\"5\")\n",
        "node1leftchright = Node(\"8\")\n",
        "node2leftch = Node(\"6\")\n",
        "node2rightch = Node(\"1\")\n",
        "\n",
        "root.left = node1\n",
        "root.right = node2\n",
        "root.left.left = node1leftch\n",
        "root.left.right = node1rightch\n",
        "root.left.left.left = node1leftchleft\n",
        "root.left.left.right = node1leftchright\n",
        "root.right.left = node2leftch\n",
        "root.right.right = node2rightch\n",
        "\n",
        "evaluateExpressionTree(root)"
      ]
    },
    {
      "cell_type": "code",
      "source": [
        "inorder(root)"
      ],
      "metadata": {
        "colab": {
          "base_uri": "https://localhost:8080/"
        },
        "id": "yDh1L4whIa35",
        "outputId": "441bfe72-86f9-4b76-ae4f-0f22436332c7"
      },
      "execution_count": 38,
      "outputs": [
        {
          "output_type": "stream",
          "name": "stdout",
          "text": [
            "5 -> / -> 8 -> + -> 3 -> - -> 6 -> * -> 1 -> "
          ]
        }
      ]
    },
    {
      "cell_type": "markdown",
      "metadata": {
        "id": "tu3n5ZdWAJl2"
      },
      "source": [
        "#### 3. Construct a binary expression tree\n",
        "\n",
        "$ ((2 + 5) / 3)- (3 + 8) $"
      ]
    },
    {
      "cell_type": "code",
      "execution_count": 32,
      "metadata": {
        "id": "5GvZBxgtAJl3",
        "colab": {
          "base_uri": "https://localhost:8080/"
        },
        "outputId": "0df2c906-3c58-4d9b-9b1b-2b149d7ae85d"
      },
      "outputs": [
        {
          "output_type": "execute_result",
          "data": {
            "text/plain": [
              "-9"
            ]
          },
          "metadata": {},
          "execution_count": 32
        }
      ],
      "source": [
        "#\n",
        "\n",
        "root = Node(\"-\")\n",
        "node1 = Node(\"/\")\n",
        "node2 = Node(\"+\")\n",
        "node1leftch = Node(\"+\")\n",
        "node1rightch = Node(\"3\")\n",
        "node1leftchleft = Node(\"2\")\n",
        "node1leftchright = Node(\"5\")\n",
        "node2leftch = Node(\"3\")\n",
        "node2rightch = Node(\"8\")\n",
        "\n",
        "root.left = node1\n",
        "root.right = node2\n",
        "root.left.left = node1leftch\n",
        "root.left.right = node1rightch\n",
        "root.left.left.left = node1leftchleft\n",
        "root.left.left.right = node1leftchright\n",
        "root.right.left = node2leftch\n",
        "root.right.right = node2rightch\n",
        "\n",
        "evaluateExpressionTree(root)\n"
      ]
    },
    {
      "cell_type": "code",
      "source": [
        "inorder(root)"
      ],
      "metadata": {
        "colab": {
          "base_uri": "https://localhost:8080/"
        },
        "id": "CjEYGVY1JG73",
        "outputId": "7af1a371-26a3-46dc-9e2d-ea3b3e251a87"
      },
      "execution_count": 36,
      "outputs": [
        {
          "output_type": "stream",
          "name": "stdout",
          "text": [
            "2 -> + -> 5 -> / -> 3 -> - -> 3 -> + -> 8 -> "
          ]
        }
      ]
    }
  ],
  "metadata": {
    "kernelspec": {
      "display_name": "Python 3",
      "language": "python",
      "name": "python3"
    },
    "language_info": {
      "codemirror_mode": {
        "name": "ipython",
        "version": 3
      },
      "file_extension": ".py",
      "mimetype": "text/x-python",
      "name": "python",
      "nbconvert_exporter": "python",
      "pygments_lexer": "ipython3",
      "version": "3.11.4"
    },
    "orig_nbformat": 4,
    "colab": {
      "provenance": []
    }
  },
  "nbformat": 4,
  "nbformat_minor": 0
}
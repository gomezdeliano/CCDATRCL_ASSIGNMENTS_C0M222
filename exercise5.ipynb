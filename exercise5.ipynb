{
  "cells": [
    {
      "cell_type": "markdown",
      "metadata": {
        "id": "oRA8EsGZloOe"
      },
      "source": [
        "# Exercise 5"
      ]
    },
    {
      "cell_type": "markdown",
      "metadata": {
        "id": "O1wVoLB2loPV"
      },
      "source": [
        "#### 1. Create a dictionary of your 10 favorite songs."
      ]
    },
    {
      "cell_type": "markdown",
      "metadata": {
        "id": "SgyPmUlKloPd"
      },
      "source": [
        "Example:\n",
        "\n",
        "|KEY|VALUE|\n",
        "|---|---|\n",
        "|001|My Love|\n",
        "|002|Like a rose|"
      ]
    },
    {
      "cell_type": "code",
      "execution_count": 29,
      "metadata": {
        "id": "iMbYSGfiloPl",
        "colab": {
          "base_uri": "https://localhost:8080/"
        },
        "outputId": "ffa634ad-b012-43f2-9aa6-459a885af7f8"
      },
      "outputs": [
        {
          "output_type": "stream",
          "name": "stdout",
          "text": [
            "{'001': 'Electric Love', '002': 'Bad Liar', '003': 'Mona Lisa', '004': 'Past Lives', '005': 'Sound of Silence', '006': 'Telephone', '007': 'Christmas Tree', '008': 'Stupid Feelings', '009': 'Uptown Girl', '010': 'City of Stars'}\n"
          ]
        }
      ],
      "source": [
        "# create dictionary\n",
        "\n",
        "mydictionary = {\n",
        "    \"001\": \"Electric Love\",\n",
        "    \"002\": \"Bad Liar\",\n",
        "    \"003\": \"Mona Lisa\",\n",
        "    \"004\": \"Past Lives\",\n",
        "    \"005\": \"Sound of Silence\",\n",
        "    \"006\": \"Telephone\",\n",
        "    \"007\": \"Christmas Tree\",\n",
        "    \"008\": \"Stupid Feelings\",\n",
        "    \"009\": \"Uptown Girl\",\n",
        "    \"010\": \"City of Stars\"\n",
        "}\n",
        "print(mydictionary)"
      ]
    },
    {
      "cell_type": "markdown",
      "metadata": {
        "id": "Wt5fvtg6loP2"
      },
      "source": [
        "#### 2. Loop through the dictionary by its **key** and **value**"
      ]
    },
    {
      "cell_type": "code",
      "execution_count": 30,
      "metadata": {
        "id": "-WkJGeWQloP9",
        "colab": {
          "base_uri": "https://localhost:8080/"
        },
        "outputId": "0643159a-b46d-4937-dc1d-1cdd25b7b0af"
      },
      "outputs": [
        {
          "output_type": "stream",
          "name": "stdout",
          "text": [
            "001 Electric Love\n",
            "002 Bad Liar\n",
            "003 Mona Lisa\n",
            "004 Past Lives\n",
            "005 Sound of Silence\n",
            "006 Telephone\n",
            "007 Christmas Tree\n",
            "008 Stupid Feelings\n",
            "009 Uptown Girl\n",
            "010 City of Stars\n"
          ]
        }
      ],
      "source": [
        "# Loop\n",
        "\n",
        "for x, y in mydictionary.items():\n",
        "  print(x,y)"
      ]
    },
    {
      "cell_type": "markdown",
      "metadata": {
        "id": "g_qwroz_loQE"
      },
      "source": [
        "#### 3. Add one additional song"
      ]
    },
    {
      "cell_type": "code",
      "source": [
        "mydictionary[\"011\"] = \"Maybe If\"\n",
        "mydictionary"
      ],
      "metadata": {
        "colab": {
          "base_uri": "https://localhost:8080/"
        },
        "id": "jg5CVFLdwMbT",
        "outputId": "4fd901e5-ae5b-4b29-8f86-a39da9087212"
      },
      "execution_count": 31,
      "outputs": [
        {
          "output_type": "execute_result",
          "data": {
            "text/plain": [
              "{'001': 'Electric Love',\n",
              " '002': 'Bad Liar',\n",
              " '003': 'Mona Lisa',\n",
              " '004': 'Past Lives',\n",
              " '005': 'Sound of Silence',\n",
              " '006': 'Telephone',\n",
              " '007': 'Christmas Tree',\n",
              " '008': 'Stupid Feelings',\n",
              " '009': 'Uptown Girl',\n",
              " '010': 'City of Stars',\n",
              " '011': 'Maybe If'}"
            ]
          },
          "metadata": {},
          "execution_count": 31
        }
      ]
    },
    {
      "cell_type": "markdown",
      "metadata": {
        "id": "IbKFT7_qloQR"
      },
      "source": [
        "#### 4. Remove one song"
      ]
    },
    {
      "cell_type": "code",
      "execution_count": 32,
      "metadata": {
        "id": "O7gmGSojloQV",
        "colab": {
          "base_uri": "https://localhost:8080/"
        },
        "outputId": "37051cea-2f80-44ea-80ac-b7150094531a"
      },
      "outputs": [
        {
          "output_type": "execute_result",
          "data": {
            "text/plain": [
              "{'001': 'Electric Love',\n",
              " '002': 'Bad Liar',\n",
              " '003': 'Mona Lisa',\n",
              " '004': 'Past Lives',\n",
              " '006': 'Telephone',\n",
              " '007': 'Christmas Tree',\n",
              " '008': 'Stupid Feelings',\n",
              " '009': 'Uptown Girl',\n",
              " '010': 'City of Stars',\n",
              " '011': 'Maybe If'}"
            ]
          },
          "metadata": {},
          "execution_count": 32
        }
      ],
      "source": [
        "# Remove one song\n",
        "\n",
        "mydictionary.pop(\"005\")\n",
        "mydictionary"
      ]
    },
    {
      "cell_type": "markdown",
      "metadata": {
        "id": "xUCDgjxnloQZ"
      },
      "source": [
        "#### 5. Create a nested dictionary of your 10 favorite songs with 5 genres. Display all of the items of the nested dictionary\n",
        "\n",
        "- Each nested dictionary's key should be the genre of the song\n",
        "- Put each song in their respective genre"
      ]
    },
    {
      "cell_type": "markdown",
      "metadata": {
        "id": "FCPDf13tloQc"
      },
      "source": [
        "Example:\n",
        "\n",
        "\n",
        "|KEY|VALUE|\n",
        "|---|---|\n",
        "|Pop|{001, Baby}|\n",
        "|Rock|{001, Enter Sandman}|"
      ]
    },
    {
      "cell_type": "code",
      "execution_count": 33,
      "metadata": {
        "id": "mq3Up7W9loQg",
        "colab": {
          "base_uri": "https://localhost:8080/"
        },
        "outputId": "77c17513-a589-4094-95d8-e8666c6fb945"
      },
      "outputs": [
        {
          "output_type": "execute_result",
          "data": {
            "text/plain": [
              "{'Folk': {'001': 'Sound of Silence', '002': 'Christmas Tree'},\n",
              " 'Pop': {'001': 'Electric Love', '002': 'Past Lives'},\n",
              " 'Indie': {'001': 'Bad Liar', '002': 'Mona Lisa'},\n",
              " 'Rock': {'001': 'Sound of Silence', '002': 'Uptown Girl'},\n",
              " 'Rap': {'001': 'City of Stars', '002': 'Telephone'}}"
            ]
          },
          "metadata": {},
          "execution_count": 33
        }
      ],
      "source": [
        "#\n",
        "\n",
        "newdictionary = {\n",
        "  \"Folk\" : {\n",
        "    \"001\" : \"Sound of Silence\",\n",
        "    \"002\" : \"Christmas Tree\"\n",
        "    },\n",
        "\n",
        "  \"Pop\" : {\n",
        "    \"001\" : \"Electric Love\",\n",
        "    \"002\" : \"Past Lives\",\n",
        "    },\n",
        "\n",
        "  \"Indie\" : {\n",
        "    \"001\" : \"Bad Liar\",\n",
        "    \"002\" : \"Mona Lisa\",\n",
        "    },\n",
        "\n",
        "  \"Rock\" : {\n",
        "    \"001\" : \"Sound of Silence\",\n",
        "    \"002\" : \"Uptown Girl\",\n",
        "  },\n",
        "\n",
        "  \"Rap\" : {\n",
        "      \"001\" : \"City of Stars\",\n",
        "      \"002\" : \"Telephone\"\n",
        "  }\n",
        "}\n",
        "\n",
        "newdictionary"
      ]
    },
    {
      "cell_type": "markdown",
      "metadata": {
        "id": "EdFhrXZuloQl"
      },
      "source": [
        "#### 6. Print the first song of the first genre"
      ]
    },
    {
      "cell_type": "code",
      "execution_count": 34,
      "metadata": {
        "id": "661xrjWKloQo",
        "colab": {
          "base_uri": "https://localhost:8080/"
        },
        "outputId": "c9562fd0-5fc2-436a-d1d9-fadedaeb9fe8"
      },
      "outputs": [
        {
          "output_type": "stream",
          "name": "stdout",
          "text": [
            "Sound of Silence\n"
          ]
        }
      ],
      "source": [
        "#\n",
        "print(newdictionary[\"Folk\"][\"001\"])"
      ]
    },
    {
      "cell_type": "markdown",
      "metadata": {
        "id": "N654TMTvloQr"
      },
      "source": [
        "#### 7. Print the first song of the last genre"
      ]
    },
    {
      "cell_type": "code",
      "execution_count": 35,
      "metadata": {
        "id": "qWMnXjcjloQu",
        "colab": {
          "base_uri": "https://localhost:8080/"
        },
        "outputId": "f6869c34-6a47-4379-8642-21c643fc1ef4"
      },
      "outputs": [
        {
          "output_type": "stream",
          "name": "stdout",
          "text": [
            "Christmas Tree\n"
          ]
        }
      ],
      "source": [
        "#\n",
        "print(newdictionary[\"Folk\"][\"002\"])"
      ]
    }
  ],
  "metadata": {
    "kernelspec": {
      "display_name": "Python 3",
      "language": "python",
      "name": "python3"
    },
    "language_info": {
      "codemirror_mode": {
        "name": "ipython",
        "version": 3
      },
      "file_extension": ".py",
      "mimetype": "text/x-python",
      "name": "python",
      "nbconvert_exporter": "python",
      "pygments_lexer": "ipython3",
      "version": "3.11.4"
    },
    "orig_nbformat": 4,
    "colab": {
      "provenance": []
    }
  },
  "nbformat": 4,
  "nbformat_minor": 0
}
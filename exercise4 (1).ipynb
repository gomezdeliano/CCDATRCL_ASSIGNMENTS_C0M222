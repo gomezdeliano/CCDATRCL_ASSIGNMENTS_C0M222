{
  "cells": [
    {
      "cell_type": "markdown",
      "metadata": {
        "id": "fCO3VeNzvGDc"
      },
      "source": [
        "# Exercise 4"
      ]
    },
    {
      "cell_type": "markdown",
      "metadata": {
        "id": "UCFGr2qPKONg"
      },
      "source": [
        "#### Pre-defined sorting algorithms"
      ]
    },
    {
      "cell_type": "code",
      "execution_count": 11,
      "metadata": {
        "id": "dXWXOLWtKONg"
      },
      "outputs": [],
      "source": [
        "def mergeSort(array):\n",
        "    if len(array) > 1:\n",
        "\n",
        "        #  r is the point where the array is divided into two subarrays\n",
        "        r = len(array)//2\n",
        "        L = array[:r]\n",
        "        M = array[r:]\n",
        "\n",
        "        # Sort the two halves\n",
        "        mergeSort(L)\n",
        "        mergeSort(M)\n",
        "\n",
        "        i = j = k = 0\n",
        "\n",
        "        # Until we reach either end of either L or M, pick larger among\n",
        "        # elements L and M and place them in the correct position at A[p..r]\n",
        "        while i < len(L) and j < len(M):\n",
        "            if L[i] < M[j]:\n",
        "                array[k] = L[i]\n",
        "                i += 1\n",
        "            else:\n",
        "                array[k] = M[j]\n",
        "                j += 1\n",
        "            k += 1\n",
        "\n",
        "        # When we run out of elements in either L or M,\n",
        "        # pick up the remaining elements and put in A[p..r]\n",
        "        while i < len(L):\n",
        "            array[k] = L[i]\n",
        "            i += 1\n",
        "            k += 1\n",
        "\n",
        "        while j < len(M):\n",
        "            array[k] = M[j]\n",
        "            j += 1\n",
        "            k += 1\n",
        "\n",
        "# Print the array\n",
        "def printList(array):\n",
        "    for i in range(len(array)):\n",
        "        print(array[i], end=\" \")\n",
        "    print()"
      ]
    },
    {
      "cell_type": "code",
      "execution_count": null,
      "metadata": {
        "id": "OB-JMVxvKONi"
      },
      "outputs": [],
      "source": [
        "def countingSort(array):\n",
        "    size = len(array)\n",
        "    output = [0] * size\n",
        "\n",
        "    # Initialize count array\n",
        "    count = [0] * 10\n",
        "\n",
        "    # Store the count of each elements in count array\n",
        "    for i in range(0, size):\n",
        "        count[array[i]] += 1\n",
        "\n",
        "    # Store the cummulative count\n",
        "    for i in range(1, 10):\n",
        "        count[i] += count[i - 1]\n",
        "\n",
        "    # Find the index of each element of the original array in count array\n",
        "    # place the elements in output array\n",
        "    i = size - 1\n",
        "    while i >= 0:\n",
        "        output[count[array[i]] - 1] = array[i]\n",
        "        count[array[i]] -= 1\n",
        "        i -= 1\n",
        "\n",
        "    # Copy the sorted elements into original array\n",
        "    for i in range(0, size):\n",
        "        array[i] = output[i]"
      ]
    },
    {
      "cell_type": "code",
      "execution_count": null,
      "metadata": {
        "id": "VXaukk4_KONj"
      },
      "outputs": [],
      "source": [
        "def insertionSort(array):\n",
        "\n",
        "    for step in range(1, len(array)):\n",
        "        key = array[step]\n",
        "        j = step - 1\n",
        "\n",
        "        # Compare key with each element on the left of it until an element smaller than it is found\n",
        "        # For descending order, change key<array[j] to key>array[j].\n",
        "        while j >= 0 and key < array[j]:\n",
        "            array[j + 1] = array[j]\n",
        "            j = j - 1\n",
        "\n",
        "        # Place key at after the element just smaller than it.\n",
        "        array[j + 1] = key"
      ]
    },
    {
      "cell_type": "code",
      "execution_count": null,
      "metadata": {
        "id": "b4yWHH1nKONj"
      },
      "outputs": [],
      "source": [
        "# Bubble sort in Python\n",
        "def bubbleSort(array):\n",
        "\n",
        "  # loop to access each array element\n",
        "  for i in range(len(array)):\n",
        "\n",
        "    # loop to compare array elements\n",
        "    for j in range(0, len(array) - i - 1):\n",
        "\n",
        "      # compare two adjacent elements\n",
        "      # change > to < to sort in descending order\n",
        "      if array[j] > array[j + 1]:\n",
        "\n",
        "        # swapping elements if elements\n",
        "        # are not in the intended order\n",
        "        temp = array[j]\n",
        "        array[j] = array[j+1]\n",
        "        array[j+1] = temp"
      ]
    },
    {
      "cell_type": "markdown",
      "metadata": {
        "id": "6j9PZVsyvGDe"
      },
      "source": [
        "#### 1. Sort your **student number** in **ascending order**\n",
        "\n",
        "Example:\n",
        "\n",
        "**Input: 2022123456**\n",
        "\n",
        "**Output: 0122223456**"
      ]
    },
    {
      "cell_type": "code",
      "execution_count": 24,
      "metadata": {
        "id": "UuNMRCm3vGDe",
        "outputId": "c7df5d89-6971-4669-ffa1-d7eee968a72b",
        "colab": {
          "base_uri": "https://localhost:8080/"
        }
      },
      "outputs": [
        {
          "output_type": "stream",
          "name": "stdout",
          "text": [
            "Sorted array: [0, 0, 0, 0, 1, 2, 2, 2, 7, 8]\n"
          ]
        }
      ],
      "source": [
        "def mergeSort(arr):\n",
        "  if len(arr) > 1:\n",
        "    mid = len(arr) // 2\n",
        "    l_arr = arr[:mid]\n",
        "    r_arr = arr[mid:]\n",
        "\n",
        "    mergeSort(l_arr)\n",
        "    mergeSort(r_arr)\n",
        "\n",
        "    i = j = k = 0 #for l_arr, r_arr, and sorted\n",
        "\n",
        "    while i < len(l_arr) and j < len(r_arr):\n",
        "      if l_arr[i] < r_arr[j]:\n",
        "        arr[k] = l_arr[i]\n",
        "        i+=1\n",
        "      else:\n",
        "        arr[k] = r_arr[j]\n",
        "        j+=1\n",
        "      k+=1\n",
        "\n",
        "    while i < len(l_arr):\n",
        "      arr[k] = l_arr[i]\n",
        "      i+=1\n",
        "      k+=1\n",
        "    while j < len(r_arr):\n",
        "      arr[k] = r_arr[j]\n",
        "      j+=1\n",
        "      k+=1\n",
        "\n",
        "arr = [2, 0, 2, 2, 1, 0, 7, 0, 0, 8]\n",
        "mergeSort(arr)\n",
        "print(\"Sorted array:\", arr)\n",
        "\n"
      ]
    },
    {
      "cell_type": "markdown",
      "metadata": {
        "id": "felukBjnvGDf"
      },
      "source": [
        "#### 2. Sort the **dates** in **ascending order**.\n",
        "\n",
        "dates = [\"12-25-2023\", birthday, \"01-01-2023\"]\n",
        "\n",
        "Enter your birthday in the birthday variable."
      ]
    },
    {
      "cell_type": "code",
      "execution_count": 41,
      "metadata": {
        "id": "f8xQ3N0jvGDg",
        "colab": {
          "base_uri": "https://localhost:8080/"
        },
        "outputId": "dd3635cc-69c2-4e02-e4eb-74eae82c5379"
      },
      "outputs": [
        {
          "output_type": "stream",
          "name": "stdout",
          "text": [
            "['08-22-2004', '01-01-2023', '12-25-2023']\n"
          ]
        }
      ],
      "source": [
        "\n",
        "# find which is smaller\n",
        "def sort(firstDate, secondDate):\n",
        "  # remove '-' and change str to int\n",
        "  m1, d1, y1 = map(int, firstDate.split('-'))\n",
        "  m2, d2, y2 = map(int, secondDate.split('-'))\n",
        "\n",
        "  if y1<y2:\n",
        "    return True\n",
        "  elif y1>y2: #vice versa\n",
        "    return False\n",
        "\n",
        "  if m1<m2:\n",
        "    return True\n",
        "  elif y1>y2: #vice versa\n",
        "    return False\n",
        "\n",
        "  if d1<d2:\n",
        "    return True\n",
        "  elif y1>y2: #vice versa\n",
        "    return False\n",
        "\n",
        "def dateSort(dates):\n",
        "  for i in range(len(dates)): # for i in 3, i = index 0\n",
        "    for j in range(i+1, len(dates)): # put j after i to compare\n",
        "      if sort(dates[j], dates[i]): # if j is smaller\n",
        "        dates[i], dates[j] = dates[j], dates[i] # exchange position\n",
        "\n",
        "\n",
        "# Your birthday should be in mm-dd-yyyy\n",
        "birthday = \"08-22-2004\"\n",
        "dates = [\"12-25-2023\", birthday, \"01-01-2023\"]\n",
        "\n",
        "dateSort(dates)\n",
        "print(dates)"
      ]
    },
    {
      "cell_type": "markdown",
      "metadata": {
        "id": "IFDPeGZxvGDg"
      },
      "source": [
        "#### 3. Count the **total number of swaps** to sort the list below using **Bubble Sort**\n",
        "\n",
        "|3|2|5|1|4|\n",
        "|---|----|---|---|---|"
      ]
    },
    {
      "cell_type": "code",
      "execution_count": 73,
      "metadata": {
        "id": "b1ppwLcevGDg",
        "outputId": "f157fbda-96c1-4290-8102-2003a27433bd",
        "colab": {
          "base_uri": "https://localhost:8080/"
        }
      },
      "outputs": [
        {
          "output_type": "stream",
          "name": "stdout",
          "text": [
            "Total swaps: 15\n"
          ]
        }
      ],
      "source": [
        "def bubbleSort(array):\n",
        "    comparisons = 0\n",
        "    swaps = 0\n",
        "    n = len(array)\n",
        "\n",
        "    # loop to access each array element\n",
        "    for i in range(n):\n",
        "        # loop to compare array elements\n",
        "        for j in range(0, n - i - 1):\n",
        "            comparisons += 1  # Increment the comparison count\n",
        "\n",
        "            # compare two adjacent elements\n",
        "            # change > to < to sort in descending order\n",
        "            if array[j] > array[j + 1]:\n",
        "                swaps += 1  # Increment the swap count\n",
        "\n",
        "                # swapping elements if they are not in the intended order\n",
        "                array[j], array[j+1] = array[j+1], array[j]\n",
        "\n",
        "    total_moves = comparisons + swaps\n",
        "    return total_moves\n",
        "\n",
        "array = [3, 2, 5, 1, 4]\n",
        "total_swaps = bubbleSort(array)\n",
        "\n",
        "print(\"Total swaps:\", total_swaps)\n",
        "# Totalswaps keep on getting 15, dapat po 17 to"
      ]
    },
    {
      "cell_type": "markdown",
      "metadata": {
        "id": "iO2UusQWvGDi"
      },
      "source": [
        "#### 4. Count the **total number of steps** to sort the list below using **Insertion Sort**\n",
        "\n",
        "\n",
        "|6|2|5|7|4|1|8|9|3|\n",
        "|---|---|---|---|---|---|---|---|---|"
      ]
    },
    {
      "cell_type": "code",
      "execution_count": 74,
      "metadata": {
        "id": "vq1PYEjmvGDi",
        "outputId": "4406b867-528f-4b70-a65e-fba8f6b61876",
        "colab": {
          "base_uri": "https://localhost:8080/"
        }
      },
      "outputs": [
        {
          "output_type": "stream",
          "name": "stdout",
          "text": [
            "32\n",
            "[1, 2, 3, 4, 5, 6, 7, 8, 9]\n"
          ]
        }
      ],
      "source": [
        "\n",
        "def insertionSort(array):\n",
        "    steps =0\n",
        "    for step in range(1, len(array)):\n",
        "        key = array[step]\n",
        "        j = step - 1\n",
        "        steps+=1\n",
        "\n",
        "        # Compare key with each element on the left of it until an element smaller than it is found\n",
        "        # For descending order, change key<array[j] to key>array[j].\n",
        "        while j >= 0 and key < array[j]:\n",
        "            array[j + 1] = array[j]\n",
        "            j = j - 1\n",
        "            steps+=1\n",
        "\n",
        "        # Place key at after the element just smaller than it.\n",
        "        array[j + 1] = key\n",
        "        steps+=1\n",
        "    return steps\n",
        "\n",
        "array = [6,2,5,7,4,1,8,9,3]\n",
        "numberofsteps = insertionSort(array)\n",
        "print(numberofsteps)\n",
        "print(array)"
      ]
    },
    {
      "cell_type": "markdown",
      "metadata": {
        "id": "jpfNCCdbvGDj"
      },
      "source": [
        "#### 5. Given the list below:\n",
        "\n",
        "\n",
        "|7|5|4|3|2|5|1|8|\n",
        "|---|---|---|---|---|---|---|---|\n",
        "\n",
        "Using **merge sort** and **counting sort**\n",
        "\n",
        "Determine which sorting algorithm is faster by counting the total number of steps for each algorithm\n"
      ]
    },
    {
      "cell_type": "code",
      "execution_count": 80,
      "metadata": {
        "id": "2YVK17cSvGDj",
        "outputId": "df59a18b-2d7e-483b-ffb4-1eaf029f45e3",
        "colab": {
          "base_uri": "https://localhost:8080/"
        }
      },
      "outputs": [
        {
          "output_type": "stream",
          "name": "stdout",
          "text": [
            "Merge sorted array: [1, 2, 3, 4, 5, 5, 7, 8]\n",
            "Number of steps: 24\n",
            "Counting sorted array: [1, 2, 3, 4, 5, 5, 7, 8]\n",
            "Number of steps: 41\n",
            "Merge sort is faster\n"
          ]
        }
      ],
      "source": [
        "\n",
        "\n",
        "def mergeSort(arr):\n",
        "\n",
        "  global merge_sort_steps\n",
        "\n",
        "  if len(arr) > 1:\n",
        "    mid = len(arr) // 2\n",
        "    l_arr = arr[:mid]\n",
        "    r_arr = arr[mid:]\n",
        "\n",
        "    mergeSort(l_arr)\n",
        "    mergeSort(r_arr)\n",
        "\n",
        "    i = j = k = 0 #for l_arr, r_arr, and sorted\n",
        "\n",
        "    while i < len(l_arr) and j < len(r_arr):\n",
        "      merge_sort_steps +=1\n",
        "      if l_arr[i] < r_arr[j]:\n",
        "        arr[k] = l_arr[i]\n",
        "        i+=1\n",
        "      else:\n",
        "        arr[k] = r_arr[j]\n",
        "        j+=1\n",
        "      k+=1\n",
        "\n",
        "    while i < len(l_arr):\n",
        "      arr[k] = l_arr[i]\n",
        "      i+=1\n",
        "      k+=1\n",
        "      merge_sort_steps +=1\n",
        "\n",
        "    while j < len(r_arr):\n",
        "      arr[k] = r_arr[j]\n",
        "      j+=1\n",
        "      k+=1\n",
        "      merge_sort_steps +=1\n",
        "\n",
        "merge_sort_steps = 0\n",
        "\n",
        "arr = [7,5,4,3,2,5,1,8]\n",
        "mergeSort(arr)\n",
        "print(\"Merge sorted array:\", arr)\n",
        "print(\"Number of steps:\", merge_sort_steps)\n",
        "\n",
        "\n",
        "def countingSort(array):\n",
        "    size = len(array)\n",
        "    output = [0] * size\n",
        "    count = [0] * 10\n",
        "\n",
        "    steps = 0  # Initialize a variable to count steps\n",
        "\n",
        "    for i in range(0, size):\n",
        "        count[array[i]] += 1\n",
        "        steps += 1  # each element\n",
        "\n",
        "    for i in range(1, 10):\n",
        "        count[i] += count[i - 1]\n",
        "        steps += 1\n",
        "\n",
        "    i = size - 1\n",
        "    while i >= 0:\n",
        "        output[count[array[i]] - 1] = array[i]\n",
        "        count[array[i]] -= 1\n",
        "        steps += 2  # each comparison and element placement\n",
        "        i -= 1\n",
        "\n",
        "    for i in range(0, size):\n",
        "        array[i] = output[i]\n",
        "        steps += 1  # each element movement\n",
        "\n",
        "    return steps\n",
        "\n",
        "arr = [7, 5, 4, 3, 2, 5, 1, 8]\n",
        "counting_sort_steps = countingSort(arr)\n",
        "sorted_arr = arr\n",
        "\n",
        "print(\"Counting sorted array:\", sorted_arr)\n",
        "print(\"Number of steps:\", counting_sort_steps)\n",
        "\n",
        "\n",
        "\n",
        "if merge_sort_steps < counting_sort_steps:\n",
        "    print(\"Merge sort is faster\")\n",
        "else:\n",
        "    print(\"counting sort is faster\")"
      ]
    }
  ],
  "metadata": {
    "colab": {
      "provenance": []
    },
    "kernelspec": {
      "display_name": "Python 3",
      "language": "python",
      "name": "python3"
    },
    "language_info": {
      "codemirror_mode": {
        "name": "ipython",
        "version": 3
      },
      "file_extension": ".py",
      "mimetype": "text/x-python",
      "name": "python",
      "nbconvert_exporter": "python",
      "pygments_lexer": "ipython3",
      "version": "3.11.4"
    },
    "orig_nbformat": 4
  },
  "nbformat": 4,
  "nbformat_minor": 0
}